{
 "cells": [
  {
   "cell_type": "code",
   "execution_count": 1,
   "metadata": {},
   "outputs": [
    {
     "name": "stderr",
     "output_type": "stream",
     "text": [
      "/mnt/store/zys/anaconda3/lib/python3.11/site-packages/gradio_client/documentation.py:105: UserWarning: Could not get documentation group for <class 'gradio.mix.Parallel'>: No known documentation group for module 'gradio.mix'\n",
      "  warnings.warn(f\"Could not get documentation group for {cls}: {exc}\")\n",
      "/mnt/store/zys/anaconda3/lib/python3.11/site-packages/gradio_client/documentation.py:105: UserWarning: Could not get documentation group for <class 'gradio.mix.Series'>: No known documentation group for module 'gradio.mix'\n",
      "  warnings.warn(f\"Could not get documentation group for {cls}: {exc}\")\n"
     ]
    },
    {
     "name": "stdout",
     "output_type": "stream",
     "text": [
      "Running on local URL:  http://127.0.0.1:7860\n",
      "\n",
      "To create a public link, set `share=True` in `launch()`.\n"
     ]
    },
    {
     "data": {
      "text/html": [
       "<div><iframe src=\"http://127.0.0.1:7860/\" width=\"100%\" height=\"500\" allow=\"autoplay; camera; microphone; clipboard-read; clipboard-write;\" frameborder=\"0\" allowfullscreen></iframe></div>"
      ],
      "text/plain": [
       "<IPython.core.display.HTML object>"
      ]
     },
     "metadata": {},
     "output_type": "display_data"
    },
    {
     "data": {
      "text/plain": []
     },
     "execution_count": 1,
     "metadata": {},
     "output_type": "execute_result"
    }
   ],
   "source": [
    "import gradio as gr\n",
    "import cv2\n",
    "import numpy as np\n",
    "\n",
    "# Function to convert 2x3 affine matrix to 3x3 for matrix multiplication\n",
    "def to_3x3(affine_matrix):\n",
    "    return np.vstack([affine_matrix, [0, 0, 1]])\n",
    "\n",
    "# Function to apply transformations based on user inputs\n",
    "def apply_transform(image, scale, rotation, translation_x, translation_y, flip_horizontal):\n",
    "\n",
    "    # 将 PIL 格式的图像转换为 NumPy 数组\n",
    "    image = np.array(image)\n",
    "    \n",
    "    # 为了避免边界问题，对图像进行填充\n",
    "    pad_size = min(image.shape[0], image.shape[1]) // 2\n",
    "    image_new = np.zeros((pad_size*2+image.shape[0], pad_size*2+image.shape[1], 3), dtype=np.uint8) + np.array((255,255,255), dtype=np.uint8).reshape(1,1,3)\n",
    "    image_new[pad_size:pad_size+image.shape[0], pad_size:pad_size+image.shape[1]] = image\n",
    "    image = np.array(image_new)\n",
    "    \n",
    "    # 初始化变换后的图像\n",
    "    transformed_image = np.array(image)\n",
    "    \n",
    "    ### 实现复合变换\n",
    "    # 注意：对于缩放和旋转，需要围绕图像中心进行\n",
    "\n",
    "    # 获取图像中心坐标\n",
    "    center = (image.shape[1] / 2, image.shape[0] / 2)\n",
    "    \n",
    "    # 生成旋转和缩放矩阵（2x3），围绕图像中心\n",
    "    rot_mat = cv2.getRotationMatrix2D(center, rotation, scale)\n",
    "    # 将 2x3 的矩阵转换为 3x3，用于矩阵乘法\n",
    "    rot_mat_3x3 = to_3x3(rot_mat)\n",
    "    \n",
    "    # 生成平移矩阵（3x3）\n",
    "    trans_mat = np.array([\n",
    "        [1, 0, translation_x],\n",
    "        [0, 1, translation_y],\n",
    "        [0, 0, 1]\n",
    "    ], dtype=np.float32)\n",
    "    \n",
    "    # 生成水平翻转矩阵（3x3）\n",
    "    if flip_horizontal:\n",
    "        flip_mat = np.array([\n",
    "            [-1, 0, image.shape[1]],  # 围绕垂直轴进行翻转\n",
    "            [0, 1, 0],\n",
    "            [0, 0, 1]\n",
    "        ], dtype=np.float32)\n",
    "    else:\n",
    "        flip_mat = np.eye(3, dtype=np.float32)  # 单位矩阵（不进行翻转）\n",
    "    \n",
    "    # 组合所有的变换矩阵\n",
    "    # 注意矩阵乘法的顺序，右乘表示先进行的变换\n",
    "    # 变换顺序：先翻转 -> 缩放和旋转 -> 平移\n",
    "    total_mat = trans_mat @ rot_mat_3x3 @ flip_mat  # 矩阵乘法\n",
    "    \n",
    "    # 从 3x3 矩阵中取出前两行，得到 2x3 的仿射变换矩阵\n",
    "    final_mat = total_mat[:2, :]\n",
    "    \n",
    "    # 使用 cv2.warpAffine 应用变换\n",
    "    transformed_image = cv2.warpAffine(image, final_mat, (image.shape[1], image.shape[0]), borderValue=(255,255,255))\n",
    "    \n",
    "    return transformed_image\n",
    "\n",
    "\n",
    "# Gradio Interface\n",
    "def interactive_transform():\n",
    "    with gr.Blocks() as demo:\n",
    "        gr.Markdown(\"## Image Transformation Playground\")\n",
    "        \n",
    "        # Define the layout\n",
    "        with gr.Row():\n",
    "            # Left: Image input and sliders\n",
    "            with gr.Column():\n",
    "                image_input = gr.Image(type=\"pil\", label=\"Upload Image\")\n",
    "\n",
    "                scale = gr.Slider(minimum=0.1, maximum=2.0, step=0.1, value=1.0, label=\"Scale\")\n",
    "                rotation = gr.Slider(minimum=-180, maximum=180, step=1, value=0, label=\"Rotation (degrees)\")\n",
    "                translation_x = gr.Slider(minimum=-300, maximum=300, step=10, value=0, label=\"Translation X\")\n",
    "                translation_y = gr.Slider(minimum=-300, maximum=300, step=10, value=0, label=\"Translation Y\")\n",
    "                flip_horizontal = gr.Checkbox(label=\"Flip Horizontal\")\n",
    "            \n",
    "            # Right: Output image\n",
    "            image_output = gr.Image(label=\"Transformed Image\")\n",
    "        \n",
    "        # Automatically update the output when any slider or checkbox is changed\n",
    "        inputs = [\n",
    "            image_input, scale, rotation, \n",
    "            translation_x, translation_y, \n",
    "            flip_horizontal\n",
    "        ]\n",
    "\n",
    "        # Link inputs to the transformation function\n",
    "        image_input.change(apply_transform, inputs, image_output)\n",
    "        scale.change(apply_transform, inputs, image_output)\n",
    "        rotation.change(apply_transform, inputs, image_output)\n",
    "        translation_x.change(apply_transform, inputs, image_output)\n",
    "        translation_y.change(apply_transform, inputs, image_output)\n",
    "        flip_horizontal.change(apply_transform, inputs, image_output)\n",
    "\n",
    "    return demo\n",
    "\n",
    "# Launch the Gradio interface\n",
    "interactive_transform().launch()"
   ]
  },
  {
   "cell_type": "code",
   "execution_count": null,
   "metadata": {},
   "outputs": [],
   "source": []
  }
 ],
 "metadata": {
  "kernelspec": {
   "display_name": "base",
   "language": "python",
   "name": "python3"
  },
  "language_info": {
   "codemirror_mode": {
    "name": "ipython",
    "version": 3
   },
   "file_extension": ".py",
   "mimetype": "text/x-python",
   "name": "python",
   "nbconvert_exporter": "python",
   "pygments_lexer": "ipython3",
   "version": "3.11.7"
  }
 },
 "nbformat": 4,
 "nbformat_minor": 2
}
